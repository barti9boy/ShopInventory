{
 "cells": [
  {
   "cell_type": "markdown",
   "id": "7d4c485a-09bd-4b84-8aba-d585cc8832a6",
   "metadata": {},
   "source": [
    "# Introduction\n",
    "text texe"
   ]
  },
  {
   "cell_type": "code",
   "execution_count": 1,
   "id": "0dfba1c9-aeb3-4eac-a8f1-7f4440baf10f",
   "metadata": {},
   "outputs": [],
   "source": [
    "import pypyodbc as pyodbc\n",
    "import pandas as pd\n",
    "from sqlalchemy import create_engine\n",
    "from sqlalchemy.engine import URL\n"
   ]
  },
  {
   "cell_type": "code",
   "execution_count": 2,
   "id": "d184cc4c-8438-4614-b44e-f9ec42c8a638",
   "metadata": {},
   "outputs": [],
   "source": [
    "DRIVER_NAME = 'SQL Server'\n",
    "SERVER_NAME = 'Zotac-B\\SQLEXPRESS'\n",
    "DATABASE_NAME = 'ShopInventoryDB'\n",
    "\n",
    "connection_string = 'Driver={SQL Server};Server=' + SERVER_NAME + ';Database=' + DATABASE_NAME + ';'\n"
   ]
  },
  {
   "cell_type": "code",
   "execution_count": 3,
   "id": "d6c8d499-dece-4228-aaa9-0f30b86f0090",
   "metadata": {},
   "outputs": [],
   "source": [
    "connection_url = URL.create(\"mssql+pyodbc\", query={\"odbc_connect\": connection_string})\n",
    "engine = create_engine(connection_url)"
   ]
  },
  {
   "cell_type": "code",
   "execution_count": 4,
   "id": "40ea32b4-6f91-47d0-b906-c51941976d54",
   "metadata": {},
   "outputs": [
    {
     "name": "stdout",
     "output_type": "stream",
     "text": [
      "     order_id  order_date  customer_id  total_amount  order_item_id  order_id  \\\n",
      "0           1  2023-07-01           20             2              1         1   \n",
      "1           1  2023-07-01           20             2              2         1   \n",
      "2           2  2023-07-01           41             2              3         2   \n",
      "3           2  2023-07-01           41             2              4         2   \n",
      "4           3  2023-07-01           62             1              5         3   \n",
      "..        ...         ...          ...           ...            ...       ...   \n",
      "149        93  2023-07-30           85             2            150        93   \n",
      "150        93  2023-07-30           85             2            151        93   \n",
      "151        94  2023-07-30           61             2            152        94   \n",
      "152        94  2023-07-30           61             2            153        94   \n",
      "153        95  2023-07-31           42             1            154        95   \n",
      "\n",
      "     product_id  quantity_ordered  unit_price  \n",
      "0             5                 1       29.99  \n",
      "1             9                 1       39.99  \n",
      "2            14                 1       69.99  \n",
      "3             8                 1       59.99  \n",
      "4             3                 1       24.99  \n",
      "..          ...               ...         ...  \n",
      "149          12                 1       29.99  \n",
      "150           8                 1       59.99  \n",
      "151          16                 1       89.99  \n",
      "152           2                 1      149.99  \n",
      "153          11                 1       29.99  \n",
      "\n",
      "[154 rows x 9 columns]\n"
     ]
    }
   ],
   "source": [
    "query = 'SELECT * FROM Orders as o JOIN OrderItems as oi on o.order_id = oi.order_id; '\n",
    "\n",
    "df = pd.read_sql_query(query, engine)\n",
    "print(df)\n"
   ]
  },
  {
   "cell_type": "code",
   "execution_count": 7,
   "id": "f475679f-b5c0-4a4a-bdcc-6b15fc6513c8",
   "metadata": {},
   "outputs": [
    {
     "name": "stdout",
     "output_type": "stream",
     "text": [
      " orders_amount\n",
      "            95\n"
     ]
    }
   ],
   "source": [
    "query = 'SELECT COUNT(DISTINCT(order_id)) as orders_amount FROM Orders'\n",
    "\n",
    "df = pd.read_sql_query(query, engine)\n",
    "print(df[['orders_amount']].to_string(index=False))\n",
    "orders_amount = df['orders_amount'][0]"
   ]
  },
  {
   "cell_type": "code",
   "execution_count": 29,
   "id": "82432fca-d721-495e-b95a-d423587aaca3",
   "metadata": {},
   "outputs": [
    {
     "name": "stdout",
     "output_type": "stream",
     "text": [
      "    order_id  items_in_order  total_price\n",
      "0          1               2        69.98\n",
      "1          2               2       129.98\n",
      "2          3               1        24.99\n",
      "3          4               2        94.98\n",
      "4          5               2        59.98\n",
      "..       ...             ...          ...\n",
      "90        91               2       109.98\n",
      "91        92               1        49.99\n",
      "92        93               2        89.98\n",
      "93        94               2       239.98\n",
      "94        95               1        29.99\n",
      "\n",
      "[95 rows x 3 columns]\n"
     ]
    }
   ],
   "source": [
    "query = 'SELECT oi.order_id, SUM(oi.quantity_ordered) as items_in_order, SUM(oi.unit_price*oi.quantity_ordered) as total_price FROM Orders as o JOIN OrderItems as oi on o.order_id = oi.order_id GROUP BY oi.order_id'\n",
    "df = pd.read_sql_query(query, engine)\n",
    "print(df)"
   ]
  },
  {
   "cell_type": "code",
   "execution_count": null,
   "id": "9701df1b-1918-46ed-8c94-0b5fcdcfffbe",
   "metadata": {},
   "outputs": [],
   "source": []
  }
 ],
 "metadata": {
  "kernelspec": {
   "display_name": "Python 3 (ipykernel)",
   "language": "python",
   "name": "python3"
  },
  "language_info": {
   "codemirror_mode": {
    "name": "ipython",
    "version": 3
   },
   "file_extension": ".py",
   "mimetype": "text/x-python",
   "name": "python",
   "nbconvert_exporter": "python",
   "pygments_lexer": "ipython3",
   "version": "3.9.9"
  }
 },
 "nbformat": 4,
 "nbformat_minor": 5
}
