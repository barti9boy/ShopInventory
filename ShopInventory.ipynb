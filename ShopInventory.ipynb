{
 "cells": [
  {
   "cell_type": "markdown",
   "id": "df79aecd-329d-4ad7-9fed-fcf523b15f01",
   "metadata": {},
   "source": [
    "asd"
   ]
  },
  {
   "cell_type": "code",
   "execution_count": 13,
   "id": "0dfba1c9-aeb3-4eac-a8f1-7f4440baf10f",
   "metadata": {},
   "outputs": [],
   "source": [
    "import pypyodbc as pyodbc\n",
    "import pandas as pd\n",
    "from sqlalchemy import create_engine\n",
    "from sqlalchemy.engine import URL\n"
   ]
  },
  {
   "cell_type": "code",
   "execution_count": 14,
   "id": "d184cc4c-8438-4614-b44e-f9ec42c8a638",
   "metadata": {},
   "outputs": [],
   "source": [
    "DRIVER_NAME = 'SQL Server'\n",
    "SERVER_NAME = 'Zotac-B\\SQLEXPRESS'\n",
    "DATABASE_NAME = 'ShopInventoryDB'\n",
    "\n",
    "connection_string = 'Driver={SQL Server};Server=' + SERVER_NAME + ';Database=' + DATABASE_NAME + ';'\n"
   ]
  },
  {
   "cell_type": "code",
   "execution_count": 17,
   "id": "d6c8d499-dece-4228-aaa9-0f30b86f0090",
   "metadata": {},
   "outputs": [],
   "source": [
    "connection_url = URL.create(\"mssql+pyodbc\", query={\"odbc_connect\": connection_string})\n",
    "engine = create_engine(connection_url)"
   ]
  },
  {
   "cell_type": "code",
   "execution_count": 18,
   "id": "40ea32b4-6f91-47d0-b906-c51941976d54",
   "metadata": {},
   "outputs": [
    {
     "name": "stdout",
     "output_type": "stream",
     "text": [
      "    supplier_id supplier_name           contact_email contact_phone  \\\n",
      "0             1    TechSource  contact@techsource.com   +1-555-1234   \n",
      "1             2      InnoTech       info@innotech.com   +1-555-5678   \n",
      "2             3    PixelCraft    sales@pixelcraft.com   +1-555-9876   \n",
      "3             4      TechWave       info@techwave.com   +1-555-2345   \n",
      "4             5       EcoTech       sales@ecotech.com   +1-555-6789   \n",
      "5             6      MegaView    contact@megaview.com   +1-555-3456   \n",
      "6             7      GigaSync       info@gigasync.com   +1-555-7890   \n",
      "7             8    TechFusion    sales@techfusion.com   +1-555-4567   \n",
      "8             9     UltraGrip   contact@ultragrip.com   +1-555-8901   \n",
      "9            10    CyberHertz     info@cyberhertz.com   +1-555-5678   \n",
      "10           11     ClearTech     sales@cleartech.com   +1-555-1234   \n",
      "11           12      ErgoTech    contact@ergotech.com   +1-555-4321   \n",
      "\n",
      "    delivery_time  \n",
      "0               5  \n",
      "1               5  \n",
      "2               3  \n",
      "3               7  \n",
      "4               4  \n",
      "5               5  \n",
      "6               3  \n",
      "7               7  \n",
      "8               3  \n",
      "9               5  \n",
      "10              5  \n",
      "11              3  \n"
     ]
    }
   ],
   "source": [
    "query = 'SELECT * FROM Suppliers NATURAL JOIN  '\n",
    "\n",
    "suppliers = pd.read_sql_query(query, engine)\n",
    "print(df)\n"
   ]
  },
  {
   "cell_type": "code",
   "execution_count": null,
   "id": "a257e693-e94a-4a44-a5c8-d6a51992522e",
   "metadata": {},
   "outputs": [],
   "source": []
  }
 ],
 "metadata": {
  "kernelspec": {
   "display_name": "Python 3 (ipykernel)",
   "language": "python",
   "name": "python3"
  },
  "language_info": {
   "codemirror_mode": {
    "name": "ipython",
    "version": 3
   },
   "file_extension": ".py",
   "mimetype": "text/x-python",
   "name": "python",
   "nbconvert_exporter": "python",
   "pygments_lexer": "ipython3",
   "version": "3.9.9"
  }
 },
 "nbformat": 4,
 "nbformat_minor": 5
}
