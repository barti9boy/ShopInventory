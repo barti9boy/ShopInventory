{
 "cells": [
  {
   "cell_type": "markdown",
   "id": "7d4c485a-09bd-4b84-8aba-d585cc8832a6",
   "metadata": {},
   "source": [
    "# Introduction\n",
    "text texe"
   ]
  },
  {
   "cell_type": "code",
   "execution_count": 29,
   "id": "0dfba1c9-aeb3-4eac-a8f1-7f4440baf10f",
   "metadata": {},
   "outputs": [],
   "source": [
    "import pypyodbc as pyodbc\n",
    "import pandas as pd\n",
    "from sqlalchemy import create_engine\n",
    "from sqlalchemy.engine import URL\n",
    "import matplotlib.pyplot as plt\n"
   ]
  },
  {
   "cell_type": "code",
   "execution_count": 30,
   "id": "d184cc4c-8438-4614-b44e-f9ec42c8a638",
   "metadata": {},
   "outputs": [],
   "source": [
    "DRIVER_NAME = 'SQL Server'\n",
    "SERVER_NAME = 'Zotac-B\\SQLEXPRESS'\n",
    "DATABASE_NAME = 'ShopInventoryDB'\n",
    "\n",
    "connection_string = 'Driver={SQL Server};Server=' + SERVER_NAME + ';Database=' + DATABASE_NAME + ';'\n"
   ]
  },
  {
   "cell_type": "code",
   "execution_count": 31,
   "id": "d6c8d499-dece-4228-aaa9-0f30b86f0090",
   "metadata": {},
   "outputs": [],
   "source": [
    "connection_url = URL.create(\"mssql+pyodbc\", query={\"odbc_connect\": connection_string})\n",
    "engine = create_engine(connection_url)"
   ]
  },
  {
   "cell_type": "code",
   "execution_count": 32,
   "id": "40ea32b4-6f91-47d0-b906-c51941976d54",
   "metadata": {},
   "outputs": [
    {
     "name": "stdout",
     "output_type": "stream",
     "text": [
      "     order_id  order_date  customer_id  total_amount  order_item_id  order_id  \\\n",
      "0           1  2023-07-01           20             2              1         1   \n",
      "1           1  2023-07-01           20             2              2         1   \n",
      "2           2  2023-07-01           41             2              3         2   \n",
      "3           2  2023-07-01           41             2              4         2   \n",
      "4           3  2023-07-01           62             1              5         3   \n",
      "..        ...         ...          ...           ...            ...       ...   \n",
      "149        93  2023-07-30           85             2            150        93   \n",
      "150        93  2023-07-30           85             2            151        93   \n",
      "151        94  2023-07-30           61             2            152        94   \n",
      "152        94  2023-07-30           61             2            153        94   \n",
      "153        95  2023-07-31           42             1            154        95   \n",
      "\n",
      "     product_id  quantity_ordered  unit_price  \n",
      "0             5                 1       29.99  \n",
      "1             9                 1       39.99  \n",
      "2            14                 1       69.99  \n",
      "3             8                 1       59.99  \n",
      "4             3                 1       24.99  \n",
      "..          ...               ...         ...  \n",
      "149          12                 1       29.99  \n",
      "150           8                 1       59.99  \n",
      "151          16                 1       89.99  \n",
      "152           2                 1      149.99  \n",
      "153          11                 1       29.99  \n",
      "\n",
      "[154 rows x 9 columns]\n"
     ]
    }
   ],
   "source": [
    "query = 'SELECT * FROM Orders as o JOIN OrderItems as oi on o.order_id = oi.order_id; '\n",
    "\n",
    "df = pd.read_sql_query(query, engine)\n",
    "print(df)\n"
   ]
  },
  {
   "cell_type": "code",
   "execution_count": 33,
   "id": "f475679f-b5c0-4a4a-bdcc-6b15fc6513c8",
   "metadata": {},
   "outputs": [
    {
     "name": "stdout",
     "output_type": "stream",
     "text": [
      " orders_amount\n",
      "            95\n"
     ]
    }
   ],
   "source": [
    "query = 'SELECT COUNT(DISTINCT(order_id)) as orders_amount FROM Orders'\n",
    "\n",
    "df = pd.read_sql_query(query, engine)\n",
    "print(df[['orders_amount']].to_string(index=False))\n",
    "orders_amount = df['orders_amount'][0]"
   ]
  },
  {
   "cell_type": "code",
   "execution_count": 34,
   "id": "82432fca-d721-495e-b95a-d423587aaca3",
   "metadata": {},
   "outputs": [
    {
     "name": "stdout",
     "output_type": "stream",
     "text": [
      "Average price of all orders\n",
      "97.69\n"
     ]
    }
   ],
   "source": [
    "query = 'SELECT oi.order_id, SUM(oi.quantity_ordered) as items_in_order, SUM(oi.unit_price*oi.quantity_ordered) as total_price FROM Orders as o JOIN OrderItems as oi on o.order_id = oi.order_id GROUP BY oi.order_id'\n",
    "df = pd.read_sql_query(query, engine)\n",
    "mean = df['total_price'].mean().round(2)\n",
    "print('Average price of all orders')\n",
    "print(mean)"
   ]
  },
  {
   "cell_type": "code",
   "execution_count": 35,
   "id": "9701df1b-1918-46ed-8c94-0b5fcdcfffbe",
   "metadata": {},
   "outputs": [
    {
     "name": "stdout",
     "output_type": "stream",
     "text": [
      "Median price of all orders\n",
      "79.98\n"
     ]
    }
   ],
   "source": [
    "print('Median price of all orders')\n",
    "print(df['total_price'].median())"
   ]
  },
  {
   "cell_type": "code",
   "execution_count": 27,
   "id": "7c442a35-987d-4c46-93ec-2da8f15cca0a",
   "metadata": {},
   "outputs": [
    {
     "name": "stdout",
     "output_type": "stream",
     "text": [
      "Mode price of all orders\n",
      "0    179.98\n",
      "Name: total_price, dtype: float64\n"
     ]
    }
   ],
   "source": [
    "print('Mode price of all orders')\n",
    "print(df['total_price'].mode())"
   ]
  },
  {
   "cell_type": "code",
   "execution_count": 37,
   "id": "fd7d2ee6-80d8-4d57-8c81-b53920db08e3",
   "metadata": {},
   "outputs": [
    {
     "data": {
      "image/png": "[encoded data removed]",
      "text/plain": [
       "<Figure size 432x288 with 1 Axes>"
      ]
     },
     "metadata": {
      "needs_background": "light"
     },
     "output_type": "display_data"
    }
   ],
   "source": [
    "df['total_price'].plot()\n",
    "plt.show()"
   ]
  },
  {
   "cell_type": "code",
   "execution_count": 38,
   "id": "0c9f7a81-4bef-450a-bca5-8c83ee2e1da9",
   "metadata": {},
   "outputs": [
    {
     "name": "stdout",
     "output_type": "stream",
     "text": [
      "    order_id  items_in_order  total_price\n",
      "0          1               2        69.98\n",
      "1          2               2       129.98\n",
      "2          3               1        24.99\n",
      "3          4               2        94.98\n",
      "4          5               2        59.98\n",
      "..       ...             ...          ...\n",
      "90        91               2       109.98\n",
      "91        92               1        49.99\n",
      "92        93               2        89.98\n",
      "93        94               2       239.98\n",
      "94        95               1        29.99\n",
      "\n",
      "[95 rows x 3 columns]\n"
     ]
    }
   ],
   "source": [
    "query = 'SELECT COUNT(DISTINCT(order_id)) as orders_amount FROM Orders'\n",
    "print(df)"
   ]
  },
  {
   "cell_type": "code",
   "execution_count": 72,
   "id": "9986b13c-47da-4162-953b-de63cebe4b12",
   "metadata": {},
   "outputs": [
    {
     "name": "stdout",
     "output_type": "stream",
     "text": [
      "    product_id  amount_in_stock  amount_ordered\n",
      "0           11                5              10\n",
      "1           10                7              13\n",
      "2            6                8               8\n",
      "3           14                9               9\n",
      "4            4               10              12\n",
      "5           13               12               8\n",
      "6            9               14               9\n",
      "7            3               15               9\n",
      "8            7               18              12\n",
      "9            1               20               9\n",
      "10          16               20              10\n",
      "11           8               22               8\n",
      "12           2               25              10\n",
      "13          15               25               6\n",
      "14           5               28               9\n",
      "15          12               28              10\n",
      "16          18               28               4\n"
     ]
    }
   ],
   "source": [
    "query = 'SELECT oi.product_id, p.quantity_in_stock as amount_in_stock, SUM(oi.quantity_ordered) as amount_ordered FROM OrderItems as oi LEFT JOIN Products as p on oi.product_id = p.product_id GROUP BY oi.product_id, p.quantity_in_stock'\n",
    "df = pd.read_sql_query(query, engine)\n",
    "print(df)"
   ]
  },
  {
   "cell_type": "code",
   "execution_count": null,
   "id": "1f69acb1-6d3c-4b11-9979-e540dc5bbf30",
   "metadata": {},
   "outputs": [],
   "source": []
  }
 ],
 "metadata": {
  "kernelspec": {
   "display_name": "Python 3 (ipykernel)",
   "language": "python",
   "name": "python3"
  },
  "language_info": {
   "codemirror_mode": {
    "name": "ipython",
    "version": 3
   },
   "file_extension": ".py",
   "mimetype": "text/x-python",
   "name": "python",
   "nbconvert_exporter": "python",
   "pygments_lexer": "ipython3",
   "version": "3.9.9"
  }
 },
 "nbformat": 4,
 "nbformat_minor": 5
}
