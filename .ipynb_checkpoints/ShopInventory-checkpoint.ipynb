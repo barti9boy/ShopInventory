{
 "cells": [
  {
   "cell_type": "markdown",
   "id": "7d4c485a-09bd-4b84-8aba-d585cc8832a6",
   "metadata": {},
   "source": [
    "# Introduction\n",
    "This is a dashboard which showcases some of the most important data regarding sales from the mockup tech shop. <br>\n",
    "The database contains information about current suppliers, products and customers as well as information about sales from a month period. <br>"
   ]
  },
  {
   "cell_type": "markdown",
   "id": "d6d80f37-7eee-4e48-ae3a-e7044915fdc5",
   "metadata": {},
   "source": [
    "<br>\n",
    "\n",
    "### Connecting to Database"
   ]
  },
  {
   "cell_type": "code",
   "execution_count": 22,
   "id": "0dfba1c9-aeb3-4eac-a8f1-7f4440baf10f",
   "metadata": {},
   "outputs": [],
   "source": [
    "import pandas as pd\n",
    "from sqlalchemy import create_engine\n",
    "from sqlalchemy.engine import URL\n",
    "import matplotlib.pyplot as plt\n",
    "import numpy as np\n"
   ]
  },
  {
   "cell_type": "code",
   "execution_count": 23,
   "id": "d184cc4c-8438-4614-b44e-f9ec42c8a638",
   "metadata": {},
   "outputs": [],
   "source": [
    "DRIVER_NAME = 'SQL Server'\n",
    "SERVER_NAME = 'Zotac-B\\SQLEXPRESS'\n",
    "DATABASE_NAME = 'ShopInventoryDB'\n",
    "\n",
    "connection_string = 'Driver={SQL Server};Server=' + SERVER_NAME + ';Database=' + DATABASE_NAME + ';'\n"
   ]
  },
  {
   "cell_type": "code",
   "execution_count": 24,
   "id": "d6c8d499-dece-4228-aaa9-0f30b86f0090",
   "metadata": {},
   "outputs": [],
   "source": [
    "connection_url = URL.create(\"mssql+pyodbc\", query={\"odbc_connect\": connection_string})\n",
    "engine = create_engine(connection_url)"
   ]
  },
  {
   "cell_type": "markdown",
   "id": "c364a195-7dc1-4f85-a118-b52f6c8ca08a",
   "metadata": {},
   "source": [
    "<br>\n",
    "\n",
    "### Database tables lookup"
   ]
  },
  {
   "cell_type": "code",
   "execution_count": 209,
   "id": "c264d5b4-568b-467d-90f8-4c30e5b22fac",
   "metadata": {},
   "outputs": [
    {
     "name": "stdout",
     "output_type": "stream",
     "text": [
      " order_id order_date  customer_id  total_amount\n",
      "        1 2023-07-01           20             2\n",
      "        2 2023-07-01           41             2\n",
      "        3 2023-07-01           62             1\n",
      "        4 2023-07-01           35             2\n",
      "        5 2023-07-02            5             2\n",
      "        6 2023-07-02           30             2\n",
      "        7 2023-07-02            5             2\n",
      "        8 2023-07-03           10             2\n",
      "        9 2023-07-03           28             2\n",
      "       10 2023-07-03           56             1\n"
     ]
    }
   ],
   "source": [
    "def Show_table(table_name, rows):\n",
    "    switch={\n",
    "        'Customers':'SELECT TOP ' + str(rows) + '* FROM Customers',\n",
    "        'Products' : 'SELECT TOP ' + str(rows) + ' * FROM Products',\n",
    "        'Orders' : 'SELECT TOP ' + str(rows) + ' * FROM Orders',\n",
    "        'OrderItems': 'SELECT TOP ' + str(rows) + ' * FROM OrderItems',\n",
    "        'Suppliers' : 'SELECT TOP ' + str(rows) + ' * FROM Suppliers'\n",
    "      }\n",
    "    query = switch.get(table_name, \"SELECT 'no table selected'\")\n",
    "    df = pd.read_sql_query(query, engine)\n",
    "    print(df.to_string(index=False))\n",
    "\n",
    "name = \"Orders\" #input table name here, or leave a blank string\n",
    "rows = 10  #input number of rows to show here\n",
    "Show_table(name, rows)\n"
   ]
  },
  {
   "cell_type": "markdown",
   "id": "7b9cb9c0-260a-46a0-9372-a1222ccbcd94",
   "metadata": {},
   "source": [
    "<br>\n",
    "\n",
    "### Products data"
   ]
  },
  {
   "cell_type": "code",
   "execution_count": 182,
   "id": "6e90945f-f6f9-47d1-a9f2-ea3b40720160",
   "metadata": {},
   "outputs": [
    {
     "name": "stdout",
     "output_type": "stream",
     "text": [
      " total_revenue\n",
      "      12298.44\n"
     ]
    }
   ],
   "source": [
    "query = 'SELECT SUM(quantity_ordered*unit_price) as total_revenue FROM OrderItems'\n",
    "df = pd.read_sql_query(query, engine)\n",
    "total_revenue = df['total_revenue'][0].round(2)\n",
    "print(df.to_string(index=False))"
   ]
  },
  {
   "cell_type": "code",
   "execution_count": 27,
   "id": "64b74c49-904d-42f3-a379-02dba16b0b2c",
   "metadata": {},
   "outputs": [
    {
     "name": "stdout",
     "output_type": "stream",
     "text": [
      "    revenue  product_id                   product_name\n",
      "0   3899.87          10            MegaView Monitor 27\n",
      "1   1799.91           3          BrightView Monitor 24\n",
      "2    959.92           8  SpeedKing Mechanical Keyboard\n",
      "3    959.88           7               GigaTone Headset\n",
      "4    899.90          16          ErgoWave Keyboard TKL\n",
      "5    629.91          14             LightType Keyboard\n",
      "6    499.90          11         FlexiArm Monitor Stand\n",
      "7    499.90           2              TypeTech Keyboard\n",
      "8    359.94          15            UltraTunes Speakers\n",
      "9    359.91           5       SoundWave Speakers Micro\n",
      "10   359.91           9              UltraGrip Mouse 5\n",
      "11   299.90          12            CrystalClear Webcam\n",
      "12   269.91           1                  GameX Mouse 2\n",
      "13   159.92           6       EcoPower Surge Protector\n",
      "14   159.92          13              GameRacer Mouse 3\n",
      "15   119.88           4          PixelPerfect Mousepad\n",
      "16    59.96          18            BassBoost Earphones\n"
     ]
    }
   ],
   "source": [
    "query = 'SELECT SUM(oi.unit_price*oi.quantity_ordered) as revenue, oi.product_id, p.product_name FROM OrderItems as oi LEFT JOIN Products as p on oi.product_id = p.product_id GROUP BY oi.product_id, p.product_name ORDER BY revenue DESC'\n",
    "df = pd.read_sql_query(query, engine)\n",
    "print(df)"
   ]
  },
  {
   "cell_type": "code",
   "execution_count": 102,
   "id": "25b18e4c-90e8-430c-a10e-f2b59062bf80",
   "metadata": {},
   "outputs": [
    {
     "data": {
      "image/png": "[encoded data removed]",
      "text/plain": [
       "<Figure size 432x288 with 1 Axes>"
      ]
     },
     "metadata": {
      "needs_background": "light"
     },
     "output_type": "display_data"
    }
   ],
   "source": [
    "query = 'SELECT * FROM (SELECT TOP 5 SUM(oi.unit_price*oi.quantity_ordered) as revenue, oi.product_id, p.product_name FROM OrderItems as oi LEFT JOIN Products as p on oi.product_id = p.product_id GROUP BY oi.product_id, p.product_name ORDER BY revenue DESC) as SQ ORDER BY revenue ASC'\n",
    "#the order of revenue is reversed with subquery to show greates value at the top of chart\n",
    "df = pd.read_sql_query(query, engine)\n",
    "ax = plt.subplot() \n",
    "ax.set_xlabel('Revenue in $') \n",
    "ax.set_title('TOP 5 products generating highest revenue')\n",
    "bars = ax.barh(df['product_name'], df['revenue'], height = 0.6, color = 'maroon')\n",
    "ax.bar_label(bars)\n",
    "plt.margins(x=0.15)\n",
    "plt.show()"
   ]
  },
  {
   "cell_type": "code",
   "execution_count": 208,
   "id": "c5d5a5b0-51c5-4b54-8ce4-d04ab399d47c",
   "metadata": {},
   "outputs": [
    {
     "data": {
      "image/png": "[encoded data removed]",
      "text/plain": [
       "<Figure size 432x288 with 1 Axes>"
      ]
     },
     "metadata": {},
     "output_type": "display_data"
    }
   ],
   "source": [
    "query = 'SELECT SUM(oi.unit_price*oi.quantity_ordered) as revenue, p.product_name FROM OrderItems as oi LEFT JOIN Products as p on oi.product_id = p.product_id WHERE product_name NOT IN (SELECT TOP 5 p.product_name FROM OrderItems as oi LEFT JOIN Products as p on oi.product_id = p.product_id GROUP BY p.product_name ORDER BY SUM(oi.unit_price*oi.quantity_ordered) DESC) GROUP BY p.product_name ORDER BY revenue DESC'\n",
    "#above query returns list of products and their generated revenue that are not in the top 5\n",
    "df = pd.read_sql_query(query, engine)\n",
    "\n",
    "#calculating revenue of products except those in top 5\n",
    "other_revenue = 0;\n",
    "for val in df['revenue']:\n",
    "    other_revenue += val;\n",
    "\n",
    "\n",
    "query = 'SELECT * FROM (SELECT TOP 5 SUM(oi.unit_price*oi.quantity_ordered) as revenue, p.product_name FROM OrderItems as oi LEFT JOIN Products as p on oi.product_id = p.product_id GROUP BY oi.product_id, p.product_name ORDER BY revenue DESC) as SQ ORDER BY revenue ASC'\n",
    "df = pd.read_sql_query(query, engine)\n",
    "new_record = pd.DataFrame([{'revenue':other_revenue, 'product_name':'other produtcs'}])\n",
    "df = pd.concat([df, new_record], ignore_index=True)\n",
    "\n",
    "\n",
    "colors = plt.get_cmap('YlOrRd')(np.linspace(0.1, 0.9, len(df['revenue'])))\n",
    "\n",
    "\n",
    "# plot\n",
    "fig, ax = plt.subplots()\n",
    "ax.pie(df['revenue'], colors=colors, radius=2, labels=df['product_name'],\n",
    "       wedgeprops={\"linewidth\": 1, \"edgecolor\": \"white\"}, autopct='%.2f%%')\n",
    "ax.set_title('Percentage of revenue generated by the top 5 products', pad=120, fontsize=20)\n",
    "\n",
    "plt.show()"
   ]
  },
  {
   "cell_type": "markdown",
   "id": "695b0308-2854-4e9c-97d8-53207107c165",
   "metadata": {},
   "source": [
    "<br>\n",
    "\n",
    "### Products data"
   ]
  },
  {
   "cell_type": "code",
   "execution_count": 82,
   "id": "82432fca-d721-495e-b95a-d423587aaca3",
   "metadata": {},
   "outputs": [
    {
     "name": "stdout",
     "output_type": "stream",
     "text": [
      " orders_amount\n",
      "            95\n"
     ]
    }
   ],
   "source": [
    "query = 'SELECT COUNT(DISTINCT(order_id)) as orders_amount FROM Orders'\n",
    "\n",
    "df = pd.read_sql_query(query, engine)\n",
    "print(df[['orders_amount']].to_string(index=False))\n",
    "orders_amount = df['orders_amount'][0]"
   ]
  },
  {
   "cell_type": "code",
   "execution_count": 8,
   "id": "9701df1b-1918-46ed-8c94-0b5fcdcfffbe",
   "metadata": {},
   "outputs": [
    {
     "name": "stdout",
     "output_type": "stream",
     "text": [
      "Average price of all orders\n",
      "129.46\n"
     ]
    }
   ],
   "source": [
    "mean = df['total_price'].mean().round(2)\n",
    "print('Average price of all orders')\n",
    "print(mean)"
   ]
  },
  {
   "cell_type": "code",
   "execution_count": 9,
   "id": "0ca0c5b3-0cab-4c6f-bc86-20b62b45d6ba",
   "metadata": {},
   "outputs": [
    {
     "name": "stdout",
     "output_type": "stream",
     "text": [
      "Median price of all orders\n",
      "89.97999999999999\n"
     ]
    }
   ],
   "source": [
    "print('Median price of all orders')\n",
    "print(df['total_price'].median())"
   ]
  },
  {
   "cell_type": "code",
   "execution_count": 10,
   "id": "7c442a35-987d-4c46-93ec-2da8f15cca0a",
   "metadata": {},
   "outputs": [
    {
     "name": "stdout",
     "output_type": "stream",
     "text": [
      "Mode price of all orders\n",
      "0    79.98\n",
      "Name: total_price, dtype: float64\n"
     ]
    }
   ],
   "source": [
    "print('Mode price of all orders')\n",
    "print(df['total_price'].mode())"
   ]
  },
  {
   "cell_type": "code",
   "execution_count": 222,
   "id": "710436a3-a769-40c5-968d-fe4874bcdca7",
   "metadata": {},
   "outputs": [
    {
     "name": "stdout",
     "output_type": "stream",
     "text": [
      "Frequent buyers\n",
      " orders_amount  customer_id        customer_name\n",
      "             3            5          Eldon Ivers\n",
      "             3           77      Marley Le Fevre\n",
      "             2           35           Nerte Reid\n",
      "             2           61 Emmerich Du Plantier\n",
      "             2           40   Fredericka McNeish\n",
      "             2           39        Arluene Raatz\n",
      "             2           29         Dolley Jolly\n"
     ]
    }
   ],
   "source": [
    "query = 'SELECT COUNT(o.order_id) as orders_amount, o.customer_id, c.customer_name FROM Orders as o LEFT JOIN Customers as c On o.customer_id = c.customer_id GROUP BY o.customer_id, c.customer_name HAVING COUNT(o.order_id) > 1 ORDER BY orders_amount DESC'\n",
    "df = pd.read_sql_query(query, engine)\n",
    "print('Frequent buyers')\n",
    "print(df.to_string(index=False))"
   ]
  },
  {
   "cell_type": "markdown",
   "id": "8e1020fb-b224-44a7-8f92-4425da78eb14",
   "metadata": {},
   "source": [
    "<br>\n",
    "\n",
    "## Restock data\n",
    "\n",
    "#### Products that might need restocking based on previous month of sales and amount in stock\n",
    "SELECT oi.product_id, p.product_name, SUM(oi.quantity_ordered) - p.quantity_in_stock as predicted_deficiency <br>\n",
    "FROM OrderItems as oi LEFT JOIN Products as p ON oi.product_id = p.product_id <br>\n",
    "GROUP BY oi.product_id, p.quantity_in_stock, p.product_name <br>\n",
    "HAVING p.quantity_in_stock < SUM(oi.quantity_ordered)'<br>"
   ]
  },
  {
   "cell_type": "code",
   "execution_count": 20,
   "id": "9986b13c-47da-4162-953b-de63cebe4b12",
   "metadata": {},
   "outputs": [
    {
     "name": "stdout",
     "output_type": "stream",
     "text": [
      "   product_id              product_name  amount_sold  predicted_deficiency\n",
      "0          10       MegaView Monitor 27           13                     6\n",
      "1          11    FlexiArm Monitor Stand           10                     5\n",
      "2           4     PixelPerfect Mousepad           12                     2\n",
      "3           6  EcoPower Surge Protector            8                     0\n",
      "4          14        LightType Keyboard            9                     0\n"
     ]
    }
   ],
   "source": [
    "query = 'SELECT oi.product_id, p.product_name, SUM(oi.quantity_ordered) as amount_sold, SUM(oi.quantity_ordered) - p.quantity_in_stock as predicted_deficiency FROM OrderItems as oi LEFT JOIN Products as p on oi.product_id = p.product_id GROUP BY oi.product_id, p.quantity_in_stock, p.product_name HAVING p.quantity_in_stock <= SUM(oi.quantity_ordered) ORDER BY predicted_deficiency DESC'\n",
    "df = pd.read_sql_query(query, engine)\n",
    "print(df)"
   ]
  }
 ],
 "metadata": {
  "kernelspec": {
   "display_name": "Python 3 (ipykernel)",
   "language": "python",
   "name": "python3"
  },
  "language_info": {
   "codemirror_mode": {
    "name": "ipython",
    "version": 3
   },
   "file_extension": ".py",
   "mimetype": "text/x-python",
   "name": "python",
   "nbconvert_exporter": "python",
   "pygments_lexer": "ipython3",
   "version": "3.9.9"
  }
 },
 "nbformat": 4,
 "nbformat_minor": 5
}
